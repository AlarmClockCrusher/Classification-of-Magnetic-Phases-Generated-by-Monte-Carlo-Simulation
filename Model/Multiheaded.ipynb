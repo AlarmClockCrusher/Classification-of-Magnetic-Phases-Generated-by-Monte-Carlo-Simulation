{
 "cells": [
  {
   "cell_type": "code",
   "execution_count": 1,
   "metadata": {},
   "outputs": [
    {
     "name": "stdout",
     "output_type": "stream",
     "text": [
      "(4395, 28, 28, 1)\n",
      "The total size of dataset is  4395\n",
      "We will now select random 80% of the data as train data, and the rest serves as test data\n"
     ]
    }
   ],
   "source": [
    "import numpy as np\n",
    "import matplotlib.pyplot as plt\n",
    "import pandas as pd\n",
    "\n",
    "NumberOfPhases = 3\n",
    "#Read the labeled training set\n",
    "#The phases are skyrmions, ferromagnetic and spin spirals\n",
    "#Labels: skyrmions--0; ferromagnetic--1, spin spirals--2\n",
    "Skyrmions = pd.read_csv(\"/users/PAS1495/gsdbuilder/FinalProject/Model/SelectedPhases/Skyrmions_z.csv\")\n",
    "Ferromagnetics = pd.read_csv(\"/users/PAS1495/gsdbuilder/FinalProject/Model/SelectedPhases/Ferrogmanetic_z.csv\")\n",
    "Spirals = pd.read_csv(\"/users/PAS1495/gsdbuilder/FinalProject/Model/SelectedPhases/Spiral_z.csv\")\n",
    "\n",
    "#For a file will all the data, xspin is 0~783, yspin is 784~1567, zspin is 1568~2351,\n",
    "#Correspondingly, iloc[:, 0:784], iloc[:, 784:1568], iloc[:, 1568:2352]\n",
    "#For now, we will use the zspin first. A smaller file is used and the zspin is now 0~783.\n",
    "file = pd.DataFrame()\n",
    "file = pd.concat([file, Skyrmions])\n",
    "file = pd.concat([file, Ferromagnetics])\n",
    "file = pd.concat([file, Spirals])\n",
    "\n",
    "#Add the average zspin to the end of the array.\n",
    "data_dimz = file.iloc[:, 0:784].values.reshape(-1, 28, 28, 1)\n",
    "print(data_dimz.shape)\n",
    "\n",
    "#The label of the data is the column #2356\n",
    "data_labels = file.iloc[:, 789].values\n",
    "data_labels_onehot = np.zeros((len(data_labels), NumberOfPhases))\n",
    "for i in range(len(data_labels)):\n",
    "    data_labels_onehot[i][data_labels[i]] = 1\n",
    "    \n",
    "size = len(data_dimz)\n",
    "print(\"The total size of dataset is \", size)\n",
    "print(\"We will now select random 80% of the data as train data, and the rest serves as test data\")"
   ]
  },
  {
   "cell_type": "code",
   "execution_count": 2,
   "metadata": {},
   "outputs": [
    {
     "name": "stdout",
     "output_type": "stream",
     "text": [
      "The training and testing sample sizes are \n",
      "3516 879\n",
      "The shape of the training and test samples:\n",
      " (3516, 28, 28, 1) (879, 28, 28, 1)\n"
     ]
    }
   ],
   "source": [
    "#Shuffle the data before we choose our train/test dataset.\n",
    "new_order = np.random.permutation(range(size))\n",
    "train_range = new_order[0:int(0.8*size)] #The training sample is 80% of the total dataset.\n",
    "test_range = new_order[int(0.8*size):size]\n",
    "\n",
    "NumberOfPhases = 3\n",
    "x_train = data_dimz[train_range]\n",
    "y_train_onehot = data_labels_onehot[train_range]\n",
    "\n",
    "\n",
    "x_test = data_dimz[test_range]\n",
    "y_test_onehot = data_labels_onehot[test_range]\n",
    "\n",
    "print(\"The training and testing sample sizes are \")\n",
    "print(len(train_range), len(test_range))\n",
    "\n",
    "print(\"The shape of the training and test samples:\\n\", x_train.shape, x_test.shape)"
   ]
  },
  {
   "cell_type": "code",
   "execution_count": 3,
   "metadata": {},
   "outputs": [
    {
     "name": "stdout",
     "output_type": "stream",
     "text": [
      "The shape of the training and test sample average z spins:\n",
      " (3516, 1) (879, 1)\n"
     ]
    }
   ],
   "source": [
    "data_ave_z = file.iloc[:, 788].values.reshape(-1, 1)\n",
    "x_train_ave_z = data_ave_z[train_range]\n",
    "x_test_ave_z = data_ave_z[test_range]\n",
    "\n",
    "print(\"The shape of the training and test sample average z spins:\\n\", x_train_ave_z.shape, x_test_ave_z.shape)"
   ]
  },
  {
   "cell_type": "markdown",
   "metadata": {},
   "source": [
    "**Multiheaded convolutional neural network**\n",
    "\n",
    "The idea is look at different scales and let the kernels find patterns of different sizes. Meanwhile, examining the average zspin tells us a very obvious pattern: **ferromagnetic phases have zspins very close to 1; spin spirals have average zspins very below 0.6; skyrmion phases are typically in the middle.** This lures us to include average zspin as an additional input.\n",
    "\n",
    "The structure of the network is: The zspins will be fed to three convolutional layers with different kernels sizes. The outputs will be combined with average zspin data and fully connected to a Dense layer.\n",
    "\n",
    "We will use keras functional API for this purpose."
   ]
  },
  {
   "cell_type": "code",
   "execution_count": 4,
   "metadata": {},
   "outputs": [
    {
     "name": "stderr",
     "output_type": "stream",
     "text": [
      "Using TensorFlow backend.\n"
     ]
    }
   ],
   "source": [
    "from __future__ import absolute_import\n",
    "from __future__ import division\n",
    "from __future__ import print_function\n",
    "\n",
    "from keras.layers import Input,Conv2D, MaxPooling2D,GlobalAveragePooling2D, concatenate, Dropout, Dense\n",
    "from keras.models import Model\n",
    "from keras.utils import plot_model\n",
    "from keras.losses import categorical_crossentropy\n",
    "from keras import metrics\n",
    "import keras.callbacks"
   ]
  },
  {
   "cell_type": "code",
   "execution_count": 5,
   "metadata": {},
   "outputs": [
    {
     "name": "stdout",
     "output_type": "stream",
     "text": [
      "summary\n",
      "__________________________________________________________________________________________________\n",
      "Layer (type)                    Output Shape         Param #     Connected to                     \n",
      "==================================================================================================\n",
      "small_kernels (InputLayer)      (None, 28, 28, 1)    0                                            \n",
      "__________________________________________________________________________________________________\n",
      "medium_kernels (InputLayer)     (None, 28, 28, 1)    0                                            \n",
      "__________________________________________________________________________________________________\n",
      "large_kernels (InputLayer)      (None, 28, 28, 1)    0                                            \n",
      "__________________________________________________________________________________________________\n",
      "conv2d_1 (Conv2D)               (None, 24, 24, 100)  2600        small_kernels[0][0]              \n",
      "__________________________________________________________________________________________________\n",
      "conv2d_2 (Conv2D)               (None, 20, 20, 100)  8200        medium_kernels[0][0]             \n",
      "__________________________________________________________________________________________________\n",
      "conv2d_3 (Conv2D)               (None, 16, 16, 100)  17000       large_kernels[0][0]              \n",
      "__________________________________________________________________________________________________\n",
      "max_pooling2d_1 (MaxPooling2D)  (None, 12, 12, 100)  0           conv2d_1[0][0]                   \n",
      "__________________________________________________________________________________________________\n",
      "max_pooling2d_2 (MaxPooling2D)  (None, 10, 10, 100)  0           conv2d_2[0][0]                   \n",
      "__________________________________________________________________________________________________\n",
      "max_pooling2d_3 (MaxPooling2D)  (None, 8, 8, 100)    0           conv2d_3[0][0]                   \n",
      "__________________________________________________________________________________________________\n",
      "global_average_pooling2d_1 (Glo (None, 100)          0           max_pooling2d_1[0][0]            \n",
      "__________________________________________________________________________________________________\n",
      "global_average_pooling2d_2 (Glo (None, 100)          0           max_pooling2d_2[0][0]            \n",
      "__________________________________________________________________________________________________\n",
      "global_average_pooling2d_3 (Glo (None, 100)          0           max_pooling2d_3[0][0]            \n",
      "__________________________________________________________________________________________________\n",
      "dropout_1 (Dropout)             (None, 100)          0           global_average_pooling2d_1[0][0] \n",
      "__________________________________________________________________________________________________\n",
      "dropout_2 (Dropout)             (None, 100)          0           global_average_pooling2d_2[0][0] \n",
      "__________________________________________________________________________________________________\n",
      "dropout_3 (Dropout)             (None, 100)          0           global_average_pooling2d_3[0][0] \n",
      "__________________________________________________________________________________________________\n",
      "average_zspin (InputLayer)      (None, 1)            0                                            \n",
      "__________________________________________________________________________________________________\n",
      "concatenate_1 (Concatenate)     (None, 301)          0           dropout_1[0][0]                  \n",
      "                                                                 dropout_2[0][0]                  \n",
      "                                                                 dropout_3[0][0]                  \n",
      "                                                                 average_zspin[0][0]              \n",
      "__________________________________________________________________________________________________\n",
      "dense_1 (Dense)                 (None, 100)          30200       concatenate_1[0][0]              \n",
      "__________________________________________________________________________________________________\n",
      "dense_2 (Dense)                 (None, 3)            303         dense_1[0][0]                    \n",
      "==================================================================================================\n",
      "Total params: 58,303\n",
      "Trainable params: 58,303\n",
      "Non-trainable params: 0\n",
      "__________________________________________________________________________________________________\n",
      "None\n"
     ]
    }
   ],
   "source": [
    "input_shape = (28, 28, 1)\n",
    "inputs1 = Input(shape=input_shape, name='small_kernels')\n",
    "inputs2 = Input(shape=input_shape, name=\"medium_kernels\")\n",
    "inputs3 = Input(shape=input_shape, name=\"large_kernels\")\n",
    "\n",
    "average_z = Input(shape=(1, ), name='average_zspin')\n",
    "\n",
    "h1conv1 = Conv2D(filters=100, kernel_size=(5, 5), activation='relu')(inputs1)\n",
    "h2conv1 = Conv2D(filters=100, kernel_size=(9, 9), activation='relu')(inputs2)\n",
    "h3conv1 = Conv2D(filters=100, kernel_size=(13, 13), activation='relu')(inputs3)\n",
    "\n",
    "h1conv2 = Conv2D(filters=100, kernel_size=(5, 5), activation='relu')(h1conv1)\n",
    "h2conv2 = Conv2D(filters=100, kernel_size=(9, 9), activation='relu')(h2conv1)\n",
    "h3conv2 = Conv2D(filters=100, kernel_size=(13, 13), activation='relu')(h3conv1)\n",
    "\n",
    "h1pool1 = MaxPooling2D(pool_size=(3, 3), strides=2, padding='same')(h1conv1)\n",
    "h2pool1 = MaxPooling2D(pool_size=(3, 3), strides=2, padding='same')(h2conv1)\n",
    "h3pool1 = MaxPooling2D(pool_size=(3, 3), strides=2, padding='same')(h3conv1)\n",
    "\n",
    "h1glob1 = GlobalAveragePooling2D()(h1pool1)\n",
    "h2glob1 = GlobalAveragePooling2D()(h2pool1)\n",
    "h3glob1 = GlobalAveragePooling2D()(h3pool1)\n",
    "\n",
    "h1drop1 = Dropout(0.5)(h1glob1)\n",
    "h2drop1 = Dropout(0.5)(h2glob1)\n",
    "h3drop1 = Dropout(0.5)(h3glob1)\n",
    "\n",
    "merged = concatenate([h1drop1, h2drop1, h3drop1, average_z])\n",
    "dense1 = Dense(100, activation='relu')(merged)\n",
    "outputs = Dense(3, activation='softmax')(dense1)\n",
    "\n",
    "# Now compile our model!\n",
    "multiheaded = Model(inputs=[inputs1, inputs2, inputs3, average_z], outputs=outputs)\n",
    "multiheaded.compile(loss='categorical_crossentropy', optimizer='adam', metrics=['accuracy'])\n",
    "print(\"summary\")\n",
    "print(multiheaded.summary())\n",
    "plot_model(multiheaded, to_file='vae_mlp.png', show_shapes=True)"
   ]
  },
  {
   "cell_type": "code",
   "execution_count": 6,
   "metadata": {},
   "outputs": [
    {
     "name": "stdout",
     "output_type": "stream",
     "text": [
      "Train on 3516 samples, validate on 879 samples\n",
      "Epoch 1/50\n",
      "3516/3516 [==============================] - 23s 7ms/step - loss: 0.5252 - acc: 0.7824 - val_loss: 0.2497 - val_acc: 0.9317\n",
      "Epoch 2/50\n",
      "3516/3516 [==============================] - 24s 7ms/step - loss: 0.2363 - acc: 0.9189 - val_loss: 0.1601 - val_acc: 0.9659\n",
      "Epoch 3/50\n",
      "3516/3516 [==============================] - 22s 6ms/step - loss: 0.1761 - acc: 0.9457 - val_loss: 0.1292 - val_acc: 0.9716\n",
      "Epoch 4/50\n",
      "3516/3516 [==============================] - 22s 6ms/step - loss: 0.1595 - acc: 0.9482 - val_loss: 0.1110 - val_acc: 0.9659\n",
      "Epoch 5/50\n",
      "3516/3516 [==============================] - 22s 6ms/step - loss: 0.1453 - acc: 0.9573 - val_loss: 0.1166 - val_acc: 0.9568\n",
      "Epoch 6/50\n",
      "3516/3516 [==============================] - 22s 6ms/step - loss: 0.1208 - acc: 0.9625 - val_loss: 0.0900 - val_acc: 0.9772\n",
      "Epoch 7/50\n",
      "3516/3516 [==============================] - 22s 6ms/step - loss: 0.1078 - acc: 0.9662 - val_loss: 0.0864 - val_acc: 0.9716\n",
      "Epoch 8/50\n",
      "3516/3516 [==============================] - 22s 6ms/step - loss: 0.1001 - acc: 0.9701 - val_loss: 0.0775 - val_acc: 0.9750\n",
      "Epoch 9/50\n",
      "3516/3516 [==============================] - 22s 6ms/step - loss: 0.0983 - acc: 0.9684 - val_loss: 0.1039 - val_acc: 0.9852\n",
      "Epoch 10/50\n",
      "3516/3516 [==============================] - 22s 6ms/step - loss: 0.0917 - acc: 0.9741 - val_loss: 0.0745 - val_acc: 0.9761\n",
      "Epoch 11/50\n",
      "3516/3516 [==============================] - 22s 6ms/step - loss: 0.0898 - acc: 0.9713 - val_loss: 0.0750 - val_acc: 0.9795\n",
      "Epoch 12/50\n",
      "3516/3516 [==============================] - 22s 6ms/step - loss: 0.0913 - acc: 0.9713 - val_loss: 0.0788 - val_acc: 0.9738\n",
      "Epoch 13/50\n",
      "3516/3516 [==============================] - 22s 6ms/step - loss: 0.0915 - acc: 0.9738 - val_loss: 0.0716 - val_acc: 0.9761\n"
     ]
    }
   ],
   "source": [
    "batch_size = 128\n",
    "epochs = 50\n",
    "patience = 4\n",
    "\n",
    "callbacks_list = [\n",
    "    keras.callbacks.ModelCheckpoint(filepath='best_model.multiheaded_withz.h5', monitor='val_loss', save_best_only=True),\n",
    "    keras.callbacks.EarlyStopping(monitor='val_acc', patience=patience)\n",
    "]\n",
    "\n",
    "history = multiheaded.fit([x_train, x_train, x_train, x_train_ave_z],\n",
    "                         y_train_onehot,\n",
    "                         batch_size=batch_size,\n",
    "                         epochs=epochs,\n",
    "                         callbacks=callbacks_list,\n",
    "                         validation_data=([x_test, x_test, x_test, x_test_ave_z], y_test_onehot))"
   ]
  },
  {
   "cell_type": "markdown",
   "metadata": {},
   "source": [
    "Plot performance vs epoch"
   ]
  },
  {
   "cell_type": "code",
   "execution_count": 7,
   "metadata": {},
   "outputs": [
    {
     "name": "stdout",
     "output_type": "stream",
     "text": [
      "The best validation accuracy is: 0.9852104677953275\n"
     ]
    },
    {
     "data": {
      "image/png": "[encoded data removed]",
      "text/plain": [
       "<Figure size 432x288 with 1 Axes>"
      ]
     },
     "metadata": {},
     "output_type": "display_data"
    }
   ],
   "source": [
    "best_val_acc = history.history['val_acc'][-(patience+1)]\n",
    "print(\"The best validation accuracy is:\", best_val_acc)\n",
    "\n",
    "multiheaded.save('multiheaded.h5')\n",
    "\n",
    "%matplotlib inline\n",
    "import matplotlib.pyplot as plt\n",
    "\n",
    "# Get training and test loss histories\n",
    "training_accuracy = history.history['acc']\n",
    "test_accuracy = history.history['val_acc']\n",
    "\n",
    "# Create count of the number of epochs\n",
    "epoch_count = range(1, len(training_accuracy) + 1)\n",
    "\n",
    "# Visualize loss history\n",
    "plt.plot(epoch_count, training_accuracy, 'r--')\n",
    "plt.plot(epoch_count, test_accuracy, 'b-')\n",
    "plt.legend(['Training accuracy', 'Test accuracy'])\n",
    "plt.xlabel('Epoch')\n",
    "plt.ylabel('Accuracy')\n",
    "plt.show();"
   ]
  },
  {
   "cell_type": "markdown",
   "metadata": {},
   "source": [
    "We have a very high accuracy of prediciton. The multiheaded network is able to look at Let's now check how confident our model when its predictions are correct and incorrect."
   ]
  },
  {
   "cell_type": "code",
   "execution_count": 8,
   "metadata": {},
   "outputs": [],
   "source": [
    "from keras.models import load_model\n",
    "multiheaded = load_model('best_model.multiheaded_withz.h5')"
   ]
  },
  {
   "cell_type": "code",
   "execution_count": 9,
   "metadata": {},
   "outputs": [
    {
     "name": "stdout",
     "output_type": "stream",
     "text": [
      "How many times is the prediction correct:  858\n",
      "How many times is the prediction wrong:  21\n"
     ]
    }
   ],
   "source": [
    "pred = multiheaded.predict([x_test, x_test, x_test, x_test_ave_z])\n",
    "\n",
    "true_predictions = []\n",
    "false_predictions = []\n",
    "for i in range(len(x_test)):\n",
    "    guess = np.argmax(pred[i])\n",
    "    true = np.argmax(y_test_onehot[i])\n",
    "    guess_max = np.max(pred[i])\n",
    "    if guess == true:\n",
    "        true_predictions.append(guess_max)\n",
    "    else:\n",
    "        false_predictions.append(guess_max)\n",
    "        \n",
    "print(\"How many times is the prediction correct: \", len(true_predictions))\n",
    "print(\"How many times is the prediction wrong: \", len(false_predictions))"
   ]
  },
  {
   "cell_type": "code",
   "execution_count": 10,
   "metadata": {},
   "outputs": [
    {
     "name": "stderr",
     "output_type": "stream",
     "text": [
      "/apps/python/3.6-conda5.2/lib/python3.6/site-packages/matplotlib/axes/_axes.py:6571: UserWarning: The 'normed' kwarg is deprecated, and has been replaced by the 'density' kwarg.\n",
      "  warnings.warn(\"The 'normed' kwarg is deprecated, and has been \"\n"
     ]
    },
    {
     "data": {
      "text/plain": [
       "(array([1., 1., 0., 1., 0., 0., 0., 0., 1., 0., 0., 0., 0., 0., 0., 0., 0.,\n",
       "        0., 1., 0., 0., 1., 1., 0., 0., 0., 1., 1., 0., 0., 0., 2., 0., 1.,\n",
       "        1., 0., 1., 2., 0., 5.]),\n",
       " array([0.5585471 , 0.5684923 , 0.5784375 , 0.5883827 , 0.59832793,\n",
       "        0.60827315, 0.61821836, 0.6281636 , 0.6381088 , 0.648054  ,\n",
       "        0.6579992 , 0.66794443, 0.67788965, 0.68783486, 0.6977801 ,\n",
       "        0.7077253 , 0.7176705 , 0.7276157 , 0.7375609 , 0.74750614,\n",
       "        0.7574513 , 0.7673965 , 0.7773417 , 0.78728694, 0.79723215,\n",
       "        0.80717736, 0.8171226 , 0.8270678 , 0.837013  , 0.8469582 ,\n",
       "        0.85690343, 0.86684865, 0.87679386, 0.8867391 , 0.8966843 ,\n",
       "        0.9066295 , 0.9165747 , 0.92651993, 0.93646514, 0.94641036,\n",
       "        0.9563556 ], dtype=float32),\n",
       " <a list of 40 Patch objects>)"
      ]
     },
     "execution_count": 10,
     "metadata": {},
     "output_type": "execute_result"
    },
    {
     "data": {
      "image/png": "[encoded data removed]",
      "text/plain": [
       "<Figure size 432x288 with 1 Axes>"
      ]
     },
     "metadata": {},
     "output_type": "display_data"
    }
   ],
   "source": [
    "#Plot the probabilities when the predictions are correct(green), and when the predictions are incorrect(red)\n",
    "plt.hist(true_predictions, 40, normed=True, color='g')\n",
    "plt.hist(false_predictions, 40, normed=False, color='r')"
   ]
  },
  {
   "cell_type": "markdown",
   "metadata": {},
   "source": [
    "As can be seen, the model is rather confident when the predictions is correct, and way less confident when the prediction is wrong. Still, there is a small chance the prediction is wrong, even when the probability is ~0.93.\n",
    "\n",
    "Next, we will use this multiheaded network to automatically label the phases in a phase diagram generated for phase points under different D's and B's."
   ]
  },
  {
   "cell_type": "code",
   "execution_count": null,
   "metadata": {},
   "outputs": [],
   "source": []
  }
 ],
 "metadata": {
  "kernelspec": {
   "display_name": "Python 3.6 (Conda 5.2) [python/3.6-conda5.2]",
   "language": "python",
   "name": "sys_python36conda"
  },
  "language_info": {
   "codemirror_mode": {
    "name": "ipython",
    "version": 3
   },
   "file_extension": ".py",
   "mimetype": "text/x-python",
   "name": "python",
   "nbconvert_exporter": "python",
   "pygments_lexer": "ipython3",
   "version": "3.6.6"
  }
 },
 "nbformat": 4,
 "nbformat_minor": 2
}
